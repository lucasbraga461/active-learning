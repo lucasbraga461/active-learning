{
 "cells": [
  {
   "cell_type": "markdown",
   "id": "7b4f427a",
   "metadata": {},
   "source": [
    "## Load libraries"
   ]
  },
  {
   "cell_type": "code",
   "execution_count": null,
   "id": "ecca223f",
   "metadata": {},
   "outputs": [],
   "source": [
    "%load_ext autoreload\n",
    "%autoreload 2"
   ]
  },
  {
   "cell_type": "code",
   "execution_count": null,
   "id": "ef880bd0",
   "metadata": {},
   "outputs": [],
   "source": [
    "import numpy as np\n",
    "import pandas as pd\n",
    "from sklearn.datasets import make_classification"
   ]
  },
  {
   "cell_type": "markdown",
   "id": "365c5916",
   "metadata": {},
   "source": [
    "## Create data\n",
    "* suppose the following has been done too:\n",
    "    * feature engineering\n",
    "    * feature selection\n",
    "    * missing data imputation\n",
    "    * fix data types\n",
    "    * using pipeline, scale and normalize features\n",
    "    * drop highly correlated features"
   ]
  },
  {
   "cell_type": "code",
   "execution_count": null,
   "id": "5ce1bd7f",
   "metadata": {},
   "outputs": [],
   "source": [
    "X, y = make_classification(\n",
    "    n_samples=10000,\n",
    "    n_features=9,\n",
    "    n_informative=6,\n",
    "    n_redundant=1,\n",
    "    n_repeated=0,\n",
    "    n_classes=2,\n",
    "    weights=[0.5, 0.5],\n",
    "    class_sep=1.0,\n",
    "    random_state=42\n",
    ")"
   ]
  },
  {
   "cell_type": "code",
   "execution_count": null,
   "id": "e1f1659a",
   "metadata": {},
   "outputs": [],
   "source": [
    "df = pd.DataFrame(X, columns=[f\"feature_{i}\" for i in range(9)])\n",
    "df['label'] = y"
   ]
  },
  {
   "cell_type": "code",
   "execution_count": null,
   "id": "26a9a392",
   "metadata": {},
   "outputs": [],
   "source": [
    "df.to_csv('data/data.csv', index=False)"
   ]
  },
  {
   "cell_type": "markdown",
   "id": "85546485",
   "metadata": {},
   "source": [
    "## Create data without the labels"
   ]
  },
  {
   "cell_type": "code",
   "execution_count": null,
   "id": "0e70c954",
   "metadata": {},
   "outputs": [],
   "source": [
    "X_unlabeled = df.drop('label', axis=1)"
   ]
  },
  {
   "cell_type": "code",
   "execution_count": null,
   "id": "0819c8a1",
   "metadata": {},
   "outputs": [],
   "source": [
    "X_unlabeled.to_csv('data/data_unlabeled.csv')"
   ]
  },
  {
   "cell_type": "code",
   "execution_count": null,
   "id": "3bbf50cf",
   "metadata": {},
   "outputs": [],
   "source": []
  }
 ],
 "metadata": {
  "language_info": {
   "name": "python"
  }
 },
 "nbformat": 4,
 "nbformat_minor": 5
}
